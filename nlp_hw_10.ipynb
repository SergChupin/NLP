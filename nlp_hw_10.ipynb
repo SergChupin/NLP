{
  "nbformat": 4,
  "nbformat_minor": 0,
  "metadata": {
    "accelerator": "GPU",
    "colab": {
      "provenance": [],
      "collapsed_sections": [],
      "toc_visible": true,
      "include_colab_link": true
    },
    "kernelspec": {
      "display_name": "Python 3",
      "name": "python3"
    }
  },
  "cells": [
    {
      "cell_type": "markdown",
      "metadata": {
        "id": "view-in-github",
        "colab_type": "text"
      },
      "source": [
        "<a href=\"https://colab.research.google.com/github/SergChupin/NLP/blob/lesson_10/nlp_hw_10.ipynb\" target=\"_parent\"><img src=\"https://colab.research.google.com/assets/colab-badge.svg\" alt=\"Open In Colab\"/></a>"
      ]
    },
    {
      "cell_type": "markdown",
      "metadata": {
        "id": "J0Qjg6vuaHNt"
      },
      "source": [
        "# Neural machine translation with attention"
      ]
    },
    {
      "cell_type": "code",
      "metadata": {
        "id": "tnxXKDjq3jEL"
      },
      "source": [
        "import tensorflow as tf\n",
        "\n",
        "import matplotlib.pyplot as plt\n",
        "import matplotlib.ticker as ticker\n",
        "from sklearn.model_selection import train_test_split\n",
        "\n",
        "import unicodedata\n",
        "import re\n",
        "import numpy as np\n",
        "import os\n",
        "import io\n",
        "import time"
      ],
      "execution_count": 1,
      "outputs": []
    },
    {
      "cell_type": "markdown",
      "metadata": {
        "id": "wfodePkj3jEa"
      },
      "source": [
        "## Download and prepare the dataset\n",
        "\n",
        "We'll use a language dataset provided by http://www.manythings.org/anki/"
      ]
    },
    {
      "cell_type": "code",
      "metadata": {
        "id": "CNvjhDyAKk3U",
        "colab": {
          "base_uri": "https://localhost:8080/"
        },
        "outputId": "eb68512b-e254-46fa-d262-18e7f747decd"
      },
      "source": [
        "!wget http://www.manythings.org/anki/rus-eng.zip"
      ],
      "execution_count": 2,
      "outputs": [
        {
          "output_type": "stream",
          "name": "stdout",
          "text": [
            "--2022-09-21 22:32:26--  http://www.manythings.org/anki/rus-eng.zip\n",
            "Resolving www.manythings.org (www.manythings.org)... 173.254.30.110\n",
            "Connecting to www.manythings.org (www.manythings.org)|173.254.30.110|:80... connected.\n",
            "HTTP request sent, awaiting response... 200 OK\n",
            "Length: 15011848 (14M) [application/zip]\n",
            "Saving to: ‘rus-eng.zip’\n",
            "\n",
            "rus-eng.zip         100%[===================>]  14.32M  5.98MB/s    in 2.4s    \n",
            "\n",
            "2022-09-21 22:32:29 (5.98 MB/s) - ‘rus-eng.zip’ saved [15011848/15011848]\n",
            "\n"
          ]
        }
      ]
    },
    {
      "cell_type": "code",
      "metadata": {
        "id": "83bg17Lr-7XK",
        "colab": {
          "base_uri": "https://localhost:8080/"
        },
        "outputId": "f6241181-9ea0-4f4f-8011-a2d5ef8f7d8b"
      },
      "source": [
        "!mkdir rus-eng\n",
        "!unzip rus-eng.zip -d rus-eng/"
      ],
      "execution_count": 3,
      "outputs": [
        {
          "output_type": "stream",
          "name": "stdout",
          "text": [
            "Archive:  rus-eng.zip\n",
            "  inflating: rus-eng/rus.txt         \n",
            "  inflating: rus-eng/_about.txt      \n"
          ]
        }
      ]
    },
    {
      "cell_type": "code",
      "metadata": {
        "id": "7o5L92efMMhf",
        "colab": {
          "base_uri": "https://localhost:8080/"
        },
        "outputId": "4163edf4-4ab8-4897-8e8a-810dc2bf06d1"
      },
      "source": [
        "!ls /content/rus-eng/ -lah"
      ],
      "execution_count": 4,
      "outputs": [
        {
          "output_type": "stream",
          "name": "stdout",
          "text": [
            "total 72M\n",
            "drwxr-xr-x 2 root root 4.0K Sep 21 22:32 .\n",
            "drwxr-xr-x 1 root root 4.0K Sep 21 22:32 ..\n",
            "-rw-r--r-- 1 root root 1.5K Sep  6 03:10 _about.txt\n",
            "-rw-r--r-- 1 root root  72M Sep  6 03:10 rus.txt\n"
          ]
        }
      ]
    },
    {
      "cell_type": "code",
      "metadata": {
        "id": "kRVATYOgJs1b"
      },
      "source": [
        "# Download the file\n",
        "path_to_file = \"/content/rus-eng/rus.txt\""
      ],
      "execution_count": 5,
      "outputs": []
    },
    {
      "cell_type": "code",
      "metadata": {
        "id": "rd0jw-eC3jEh"
      },
      "source": [
        "def preprocess_sentence(w):\n",
        "  w = w.lower().strip()\n",
        "\n",
        "  # creating a space between a word and the punctuation following it\n",
        "  # eg: \"he is a boy.\" => \"he is a boy .\"\n",
        "  # Reference:- https://stackoverflow.com/questions/3645931/python-padding-punctuation-with-white-spaces-keeping-punctuation\n",
        "  w = re.sub(r\"([?.!,])\", r\" \\1 \", w)\n",
        "  w = re.sub(r'[\" \"]+', \" \", w)\n",
        "\n",
        "  # replacing everything with space except (a-z, A-Z, \".\", \"?\", \"!\", \",\")\n",
        "  w = re.sub(r\"[^a-zA-Zа-яА-Я?.!,']+\", \" \", w)\n",
        "\n",
        "  w = w.strip()\n",
        "\n",
        "  # adding a start and an end token to the sentence\n",
        "  # so that the model know when to start and stop predicting.\n",
        "  w = '<start> ' + w + ' <end>'\n",
        "  return w"
      ],
      "execution_count": 6,
      "outputs": []
    },
    {
      "cell_type": "code",
      "metadata": {
        "id": "yV9lZXQXNbnH",
        "colab": {
          "base_uri": "https://localhost:8080/",
          "height": 35
        },
        "outputId": "90ffe151-0a22-4026-9c05-87c4892d9cd7"
      },
      "source": [
        "preprocess_sentence(\"I can't go.\")"
      ],
      "execution_count": 7,
      "outputs": [
        {
          "output_type": "execute_result",
          "data": {
            "text/plain": [
              "\"<start> i can't go . <end>\""
            ],
            "application/vnd.google.colaboratory.intrinsic+json": {
              "type": "string"
            }
          },
          "metadata": {},
          "execution_count": 7
        }
      ]
    },
    {
      "cell_type": "code",
      "metadata": {
        "id": "OHn4Dct23jEm"
      },
      "source": [
        "# 1. Remove the accents\n",
        "# 2. Clean the sentences\n",
        "# 3. Return word pairs in the format: [ENG, RUS]\n",
        "def create_dataset(path, num_examples):\n",
        "  lines = io.open(path, encoding='UTF-8').read().strip().split('\\n')\n",
        "\n",
        "  word_pairs = [[preprocess_sentence(w) for w in l.split('\\t')[:2]]  for l in lines[:num_examples]]\n",
        "\n",
        "  return zip(*word_pairs)"
      ],
      "execution_count": 8,
      "outputs": []
    },
    {
      "cell_type": "code",
      "metadata": {
        "id": "cTbSbBz55QtF",
        "colab": {
          "base_uri": "https://localhost:8080/"
        },
        "outputId": "0f7c1d26-56b3-45c2-f599-21f135f1a78b"
      },
      "source": [
        "en, ru = create_dataset(path_to_file, None)\n",
        "print(en[-1])\n",
        "print(ru[-1])"
      ],
      "execution_count": 9,
      "outputs": [
        {
          "output_type": "stream",
          "name": "stdout",
          "text": [
            "<start> doubtless there exists in this world precisely the right woman for any given man to marry and vice versa but when you consider that a human being has the opportunity of being acquainted with only a few hundred people , and out of the few hundred that there are but a dozen or less whom he knows intimately , and out of the dozen , one or two friends at most , it will easily be seen , when we remember the number of millions who inhabit this world , that probably , since the earth was created , the right man has never yet met the right woman . <end>\n",
            "<start> несомненно , для каждого мужчины в этом мире где то есть подходящая женщина , которая может стать ему женой , обратное верно и для женщин . но если учесть , что у человека может быть максимум несколько сотен знакомых , из которых лишь дюжина , а то и меньше , тех , кого он знает близко , а из этой дюжины у него один или от силы два друга , то можно легко увидеть , что с уч том миллионов живущих на земле людей , ни один подходящий мужчина , возможно , ещ не встретил подходящую женщину . <end>\n"
          ]
        }
      ]
    },
    {
      "cell_type": "code",
      "metadata": {
        "id": "bIOn8RCNDJXG"
      },
      "source": [
        "def tokenize(lang):\n",
        "  lang_tokenizer = tf.keras.preprocessing.text.Tokenizer(\n",
        "      filters='')\n",
        "  lang_tokenizer.fit_on_texts(lang)\n",
        "\n",
        "  tensor = lang_tokenizer.texts_to_sequences(lang)\n",
        "\n",
        "  tensor = tf.keras.preprocessing.sequence.pad_sequences(tensor,\n",
        "                                                         padding='post')\n",
        "\n",
        "  return tensor, lang_tokenizer"
      ],
      "execution_count": 10,
      "outputs": []
    },
    {
      "cell_type": "code",
      "metadata": {
        "id": "eAY9k49G3jE_"
      },
      "source": [
        "def load_dataset(path, num_examples=None):\n",
        "  # creating cleaned input, output pairs\n",
        "  targ_lang, inp_lang = create_dataset(path, num_examples)\n",
        "\n",
        "  input_tensor, inp_lang_tokenizer = tokenize(inp_lang)\n",
        "  target_tensor, targ_lang_tokenizer = tokenize(targ_lang)\n",
        "\n",
        "  return input_tensor, target_tensor, inp_lang_tokenizer, targ_lang_tokenizer"
      ],
      "execution_count": 11,
      "outputs": []
    },
    {
      "cell_type": "markdown",
      "metadata": {
        "id": "GOi42V79Ydlr"
      },
      "source": [
        "### Limit the size of the dataset to experiment faster (optional)\n"
      ]
    },
    {
      "cell_type": "code",
      "metadata": {
        "id": "C8j9g9AnIeZV",
        "colab": {
          "base_uri": "https://localhost:8080/"
        },
        "outputId": "4483041c-b850-445d-e74c-b309fcd99594"
      },
      "source": [
        "len(en), len(ru)"
      ],
      "execution_count": 12,
      "outputs": [
        {
          "output_type": "execute_result",
          "data": {
            "text/plain": [
              "(451436, 451436)"
            ]
          },
          "metadata": {},
          "execution_count": 12
        }
      ]
    },
    {
      "cell_type": "code",
      "metadata": {
        "id": "cnxC7q-j3jFD"
      },
      "source": [
        "# Try experimenting with the size of that dataset\n",
        "num_examples = 100000\n",
        "input_tensor, target_tensor, inp_lang, targ_lang = load_dataset(path_to_file, num_examples)\n",
        "\n",
        "# Calculate max_length of the target tensors\n",
        "max_length_targ, max_length_inp = target_tensor.shape[1], input_tensor.shape[1]"
      ],
      "execution_count": 13,
      "outputs": []
    },
    {
      "cell_type": "code",
      "metadata": {
        "id": "4QILQkOs3jFG",
        "colab": {
          "base_uri": "https://localhost:8080/"
        },
        "outputId": "93ac043e-d16c-4c50-decc-d0ad2e6febae"
      },
      "source": [
        "# Creating training and validation sets using an 80-20 split\n",
        "input_tensor_train, input_tensor_val, target_tensor_train, target_tensor_val = train_test_split(input_tensor, target_tensor, test_size=0.2)\n",
        "\n",
        "# Show length\n",
        "print(len(input_tensor_train), len(target_tensor_train), len(input_tensor_val), len(target_tensor_val))"
      ],
      "execution_count": 14,
      "outputs": [
        {
          "output_type": "stream",
          "name": "stdout",
          "text": [
            "80000 80000 20000 20000\n"
          ]
        }
      ]
    },
    {
      "cell_type": "code",
      "metadata": {
        "id": "lJPmLZGMeD5q"
      },
      "source": [
        "def convert(lang, tensor):\n",
        "  for t in tensor:\n",
        "    if t!=0:\n",
        "      print (\"%d ----> %s\" % (t, lang.index_word[t]))"
      ],
      "execution_count": 15,
      "outputs": []
    },
    {
      "cell_type": "code",
      "metadata": {
        "id": "VXukARTDd7MT",
        "colab": {
          "base_uri": "https://localhost:8080/"
        },
        "outputId": "5c41ade6-3fa3-429c-94f5-b871c5664c23"
      },
      "source": [
        "print (\"Input Language; index to word mapping\")\n",
        "convert(inp_lang, input_tensor_train[0])\n",
        "print ()\n",
        "print (\"Target Language; index to word mapping\")\n",
        "convert(targ_lang, target_tensor_train[0])"
      ],
      "execution_count": 16,
      "outputs": [
        {
          "output_type": "stream",
          "name": "stdout",
          "text": [
            "Input Language; index to word mapping\n",
            "1 ----> <start>\n",
            "4 ----> я\n",
            "3580 ----> убила\n",
            "102 ----> их\n",
            "229 ----> всех\n",
            "3 ----> .\n",
            "2 ----> <end>\n",
            "\n",
            "Target Language; index to word mapping\n",
            "1 ----> <start>\n",
            "4 ----> i\n",
            "376 ----> killed\n",
            "96 ----> them\n",
            "61 ----> all\n",
            "3 ----> .\n",
            "2 ----> <end>\n"
          ]
        }
      ]
    },
    {
      "cell_type": "markdown",
      "metadata": {
        "id": "rgCLkfv5uO3d"
      },
      "source": [
        "### Create a tf.data dataset"
      ]
    },
    {
      "cell_type": "code",
      "metadata": {
        "id": "TqHsArVZ3jFS"
      },
      "source": [
        "BUFFER_SIZE = len(input_tensor_train)\n",
        "BATCH_SIZE = 64\n",
        "steps_per_epoch = len(input_tensor_train)//BATCH_SIZE\n",
        "embedding_dim = 256\n",
        "units = 1024\n",
        "vocab_inp_size = len(inp_lang.word_index)+1\n",
        "vocab_tar_size = len(targ_lang.word_index)+1\n",
        "\n",
        "dataset = tf.data.Dataset.from_tensor_slices((input_tensor_train, target_tensor_train)).shuffle(BUFFER_SIZE)\n",
        "dataset = dataset.batch(BATCH_SIZE, drop_remainder=True)"
      ],
      "execution_count": 17,
      "outputs": []
    },
    {
      "cell_type": "code",
      "metadata": {
        "id": "qc6-NK1GtWQt",
        "colab": {
          "base_uri": "https://localhost:8080/"
        },
        "outputId": "714eb18b-36d4-4c44-ee64-4ef23c6d2076"
      },
      "source": [
        "example_input_batch, example_target_batch = next(iter(dataset))\n",
        "example_input_batch.shape, example_target_batch.shape"
      ],
      "execution_count": 18,
      "outputs": [
        {
          "output_type": "execute_result",
          "data": {
            "text/plain": [
              "(TensorShape([64, 15]), TensorShape([64, 11]))"
            ]
          },
          "metadata": {},
          "execution_count": 18
        }
      ]
    },
    {
      "cell_type": "code",
      "metadata": {
        "id": "nZ2rI24i3jFg"
      },
      "source": [
        "class Encoder(tf.keras.Model):\n",
        "  def __init__(self, vocab_size, embedding_dim, enc_units, batch_sz):\n",
        "    super(Encoder, self).__init__()\n",
        "    self.batch_sz = batch_sz\n",
        "    self.enc_units = enc_units\n",
        "    self.embedding = tf.keras.layers.Embedding(vocab_size, embedding_dim)\n",
        "    self.gru = tf.keras.layers.GRU(self.enc_units,\n",
        "                                   return_sequences=True,\n",
        "                                   return_state=True,\n",
        "                                   recurrent_initializer='glorot_uniform')\n",
        "\n",
        "  def call(self, x, hidden):\n",
        "    x = self.embedding(x)\n",
        "    output, state = self.gru(x, initial_state = hidden)\n",
        "    return output, state\n",
        "\n",
        "  def initialize_hidden_state(self):\n",
        "    return tf.zeros((self.batch_sz, self.enc_units))"
      ],
      "execution_count": 19,
      "outputs": []
    },
    {
      "cell_type": "code",
      "metadata": {
        "id": "60gSVh05Jl6l",
        "colab": {
          "base_uri": "https://localhost:8080/"
        },
        "outputId": "22d3dc7a-3acf-4cfe-e476-b543a55cba9f"
      },
      "source": [
        "encoder = Encoder(vocab_inp_size, embedding_dim, units, BATCH_SIZE)\n",
        "\n",
        "# sample input\n",
        "sample_hidden = encoder.initialize_hidden_state()\n",
        "sample_output, sample_hidden = encoder(example_input_batch, sample_hidden)\n",
        "print ('Encoder output shape: (batch size, sequence length, units) {}'.format(sample_output.shape))\n",
        "print ('Encoder Hidden state shape: (batch size, units) {}'.format(sample_hidden.shape))"
      ],
      "execution_count": 20,
      "outputs": [
        {
          "output_type": "stream",
          "name": "stdout",
          "text": [
            "Encoder output shape: (batch size, sequence length, units) (64, 15, 1024)\n",
            "Encoder Hidden state shape: (batch size, units) (64, 1024)\n"
          ]
        }
      ]
    },
    {
      "cell_type": "code",
      "metadata": {
        "id": "YTyhL28Niqk1"
      },
      "source": [
        "class BahdanauAttention(tf.keras.layers.Layer):\n",
        "  def __init__(self, units):\n",
        "    super(BahdanauAttention, self).__init__()\n",
        "    self.W1 = tf.keras.layers.Dense(units)\n",
        "    self.W2 = tf.keras.layers.Dense(units)\n",
        "    self.V = tf.keras.layers.Dense(1)\n",
        "\n",
        "  def call(self, query, values):\n",
        "    # query hidden state shape == (batch_size, hidden size)\n",
        "    # query_with_time_axis shape == (batch_size, 1, hidden size)\n",
        "    # values shape == (batch_size, max_len, hidden size)\n",
        "    # we are doing this to broadcast addition along the time axis to calculate the score\n",
        "    query_with_time_axis = tf.expand_dims(query, 1)\n",
        "\n",
        "    # score shape == (batch_size, max_length, 1)\n",
        "    # we get 1 at the last axis because we are applying score to self.V\n",
        "    # the shape of the tensor before applying self.V is (batch_size, max_length, units)\n",
        "    score = self.V(tf.nn.tanh(\n",
        "        self.W1(query_with_time_axis) + self.W2(values)))\n",
        "\n",
        "    # attention_weights shape == (batch_size, max_length, 1)\n",
        "    attention_weights = tf.nn.softmax(score, axis=1)\n",
        "\n",
        "    # context_vector shape after sum == (batch_size, hidden_size)\n",
        "    context_vector = attention_weights * values\n",
        "    context_vector = tf.reduce_sum(context_vector, axis=1)\n",
        "\n",
        "    return context_vector, attention_weights"
      ],
      "execution_count": 21,
      "outputs": []
    },
    {
      "cell_type": "code",
      "metadata": {
        "colab": {
          "base_uri": "https://localhost:8080/"
        },
        "id": "XUqssWcci1XJ",
        "outputId": "427273b7-07d2-4cf8-8f32-dd21429afeb6"
      },
      "source": [
        "attention_layer = BahdanauAttention(10)\n",
        "attention_result, attention_weights = attention_layer(sample_hidden, sample_output)\n",
        "\n",
        "print(\"Attention result shape: (batch size, units) {}\".format(attention_result.shape))\n",
        "print(\"Attention weights shape: (batch_size, sequence_length, 1) {}\".format(attention_weights.shape))"
      ],
      "execution_count": 22,
      "outputs": [
        {
          "output_type": "stream",
          "name": "stdout",
          "text": [
            "Attention result shape: (batch size, units) (64, 1024)\n",
            "Attention weights shape: (batch_size, sequence_length, 1) (64, 15, 1)\n"
          ]
        }
      ]
    },
    {
      "cell_type": "code",
      "metadata": {
        "id": "yJ_B3mhW3jFk"
      },
      "source": [
        "class Decoder(tf.keras.Model):\n",
        "  def __init__(self, vocab_size, embedding_dim, dec_units, batch_sz):\n",
        "    super(Decoder, self).__init__()\n",
        "    self.batch_sz = batch_sz\n",
        "    self.dec_units = dec_units\n",
        "    self.embedding = tf.keras.layers.Embedding(vocab_size, embedding_dim)\n",
        "    self.gru = tf.keras.layers.GRU(self.dec_units,\n",
        "                                   return_sequences=True,\n",
        "                                   return_state=True,\n",
        "                                   recurrent_initializer='glorot_uniform')\n",
        "    self.fc = tf.keras.layers.Dense(vocab_size)\n",
        "\n",
        "    # used for attention\n",
        "    self.attention = BahdanauAttention(self.dec_units)\n",
        "\n",
        "  def call(self, x, hidden, enc_output):\n",
        "    # enc_output shape == (batch_size, max_length, hidden_size)\n",
        "    context_vector, attention_weights = self.attention(hidden, enc_output)\n",
        "\n",
        "    # x shape after passing through embedding == (batch_size, 1, embedding_dim)\n",
        "    x = self.embedding(x)\n",
        "\n",
        "    # x shape after concatenation == (batch_size, 1, embedding_dim + hidden_size)\n",
        "    x = tf.concat([tf.expand_dims(context_vector, 1), x], axis=-1)\n",
        "\n",
        "    # passing the concatenated vector to the GRU\n",
        "    output, state = self.gru(x)\n",
        "\n",
        "    # output shape == (batch_size * 1, hidden_size)\n",
        "    output = tf.reshape(output, (-1, output.shape[2]))\n",
        "\n",
        "    # output shape == (batch_size, vocab)\n",
        "    x = self.fc(output)\n",
        "\n",
        "    return x, state, attention_weights"
      ],
      "execution_count": 23,
      "outputs": []
    },
    {
      "cell_type": "code",
      "metadata": {
        "id": "P5UY8wko3jFp",
        "colab": {
          "base_uri": "https://localhost:8080/"
        },
        "outputId": "9c25a10b-3169-483b-9154-181a921b2d31"
      },
      "source": [
        "decoder = Decoder(vocab_tar_size, embedding_dim, units, BATCH_SIZE)\n",
        "\n",
        "sample_decoder_output, _, _ = decoder(tf.random.uniform((BATCH_SIZE, 1)),\n",
        "                                      sample_hidden, sample_output)\n",
        "\n",
        "print ('Decoder output shape: (batch_size, vocab size) {}'.format(sample_decoder_output.shape))"
      ],
      "execution_count": 24,
      "outputs": [
        {
          "output_type": "stream",
          "name": "stdout",
          "text": [
            "Decoder output shape: (batch_size, vocab size) (64, 7335)\n"
          ]
        }
      ]
    },
    {
      "cell_type": "markdown",
      "metadata": {
        "id": "_ch_71VbIRfK"
      },
      "source": [
        "## Define the optimizer and the loss function"
      ]
    },
    {
      "cell_type": "code",
      "metadata": {
        "id": "WmTHr5iV3jFr"
      },
      "source": [
        "optimizer = tf.keras.optimizers.Adam()\n",
        "loss_object = tf.keras.losses.SparseCategoricalCrossentropy(\n",
        "    from_logits=True, reduction='none')\n",
        "\n",
        "def loss_function(real, pred):\n",
        "  mask = tf.math.logical_not(tf.math.equal(real, 0))\n",
        "  loss_ = loss_object(real, pred)\n",
        "\n",
        "  mask = tf.cast(mask, dtype=loss_.dtype)\n",
        "  loss_ *= mask\n",
        "\n",
        "  return tf.reduce_mean(loss_)"
      ],
      "execution_count": 25,
      "outputs": []
    },
    {
      "cell_type": "markdown",
      "metadata": {
        "id": "DMVWzzsfNl4e"
      },
      "source": [
        "## Checkpoints (Object-based saving)"
      ]
    },
    {
      "cell_type": "code",
      "metadata": {
        "id": "Zj8bXQTgNwrF"
      },
      "source": [
        "checkpoint_dir = './training_attention_checkpoints'\n",
        "checkpoint_prefix = os.path.join(checkpoint_dir, \"ckpt\")\n",
        "checkpoint = tf.train.Checkpoint(optimizer=optimizer,\n",
        "                                 encoder=encoder,\n",
        "                                 decoder=decoder)"
      ],
      "execution_count": 26,
      "outputs": []
    },
    {
      "cell_type": "code",
      "metadata": {
        "id": "sC9ArXSsVfqn"
      },
      "source": [
        "@tf.function\n",
        "def train_step(inp, targ, enc_hidden):\n",
        "  loss = 0\n",
        "\n",
        "  with tf.GradientTape() as tape:\n",
        "    enc_output, enc_hidden = encoder(inp, enc_hidden)\n",
        "\n",
        "    dec_hidden = enc_hidden\n",
        "\n",
        "    dec_input = tf.expand_dims([targ_lang.word_index['<start>']] * BATCH_SIZE, 1)\n",
        "\n",
        "    # Teacher forcing - feeding the target as the next input\n",
        "    for t in range(1, targ.shape[1]):\n",
        "      # passing enc_output to the decoder\n",
        "      predictions, dec_hidden, _ = decoder(dec_input, dec_hidden, enc_output)\n",
        "\n",
        "      loss += loss_function(targ[:, t], predictions)\n",
        "\n",
        "      # using teacher forcing\n",
        "      dec_input = tf.expand_dims(targ[:, t], 1)\n",
        "\n",
        "  batch_loss = (loss / int(targ.shape[1]))\n",
        "\n",
        "  variables = encoder.trainable_variables + decoder.trainable_variables\n",
        "\n",
        "  gradients = tape.gradient(loss, variables)\n",
        "\n",
        "  optimizer.apply_gradients(zip(gradients, variables))\n",
        "\n",
        "  return batch_loss"
      ],
      "execution_count": 27,
      "outputs": []
    },
    {
      "cell_type": "code",
      "metadata": {
        "id": "ddefjBMa3jF0",
        "colab": {
          "base_uri": "https://localhost:8080/"
        },
        "outputId": "eed387d9-0389-47de-a17f-b3877438c784"
      },
      "source": [
        "EPOCHS = 50\n",
        "\n",
        "for epoch in range(EPOCHS):\n",
        "  start = time.time()\n",
        "\n",
        "  enc_hidden = encoder.initialize_hidden_state()\n",
        "  total_loss = 0\n",
        "\n",
        "  for (batch, (inp, targ)) in enumerate(dataset.take(steps_per_epoch)):\n",
        "    batch_loss = train_step(inp, targ, enc_hidden)\n",
        "    total_loss += batch_loss\n",
        "\n",
        "    if batch % 100 == 0:\n",
        "      print('Epoch {} Batch {} Loss {:.4f}'.format(epoch + 1,\n",
        "                                                   batch,\n",
        "                                                   batch_loss.numpy()))\n",
        "  # saving (checkpoint) the model every 2 epochs\n",
        "  if (epoch + 1) % 2 == 0:\n",
        "    checkpoint.save(file_prefix = checkpoint_prefix)\n",
        "\n",
        "  print('Epoch {} Loss {:.4f}'.format(epoch + 1,\n",
        "                                      total_loss / steps_per_epoch))\n",
        "  print('Time taken for 1 epoch {} sec\\n'.format(time.time() - start))"
      ],
      "execution_count": 28,
      "outputs": [
        {
          "output_type": "stream",
          "name": "stdout",
          "text": [
            "Epoch 1 Batch 0 Loss 4.5640\n",
            "Epoch 1 Batch 100 Loss 2.0588\n",
            "Epoch 1 Batch 200 Loss 1.9186\n",
            "Epoch 1 Batch 300 Loss 1.6567\n",
            "Epoch 1 Batch 400 Loss 1.6182\n",
            "Epoch 1 Batch 500 Loss 1.4205\n",
            "Epoch 1 Batch 600 Loss 1.4951\n",
            "Epoch 1 Batch 700 Loss 1.2015\n",
            "Epoch 1 Batch 800 Loss 1.2244\n",
            "Epoch 1 Batch 900 Loss 1.0933\n",
            "Epoch 1 Batch 1000 Loss 1.0259\n",
            "Epoch 1 Batch 1100 Loss 0.9393\n",
            "Epoch 1 Batch 1200 Loss 0.8300\n",
            "Epoch 1 Loss 1.4794\n",
            "Time taken for 1 epoch 108.2840211391449 sec\n",
            "\n",
            "Epoch 2 Batch 0 Loss 0.7811\n",
            "Epoch 2 Batch 100 Loss 0.8036\n",
            "Epoch 2 Batch 200 Loss 0.8074\n",
            "Epoch 2 Batch 300 Loss 0.7613\n",
            "Epoch 2 Batch 400 Loss 0.7515\n",
            "Epoch 2 Batch 500 Loss 0.7010\n",
            "Epoch 2 Batch 600 Loss 0.6716\n",
            "Epoch 2 Batch 700 Loss 0.5584\n",
            "Epoch 2 Batch 800 Loss 0.6374\n",
            "Epoch 2 Batch 900 Loss 0.4944\n",
            "Epoch 2 Batch 1000 Loss 0.5970\n",
            "Epoch 2 Batch 1100 Loss 0.4626\n",
            "Epoch 2 Batch 1200 Loss 0.4770\n",
            "Epoch 2 Loss 0.6458\n",
            "Time taken for 1 epoch 99.08994030952454 sec\n",
            "\n",
            "Epoch 3 Batch 0 Loss 0.3884\n",
            "Epoch 3 Batch 100 Loss 0.3260\n",
            "Epoch 3 Batch 200 Loss 0.4085\n",
            "Epoch 3 Batch 300 Loss 0.3694\n",
            "Epoch 3 Batch 400 Loss 0.4728\n",
            "Epoch 3 Batch 500 Loss 0.3326\n",
            "Epoch 3 Batch 600 Loss 0.3611\n",
            "Epoch 3 Batch 700 Loss 0.3172\n",
            "Epoch 3 Batch 800 Loss 0.4391\n",
            "Epoch 3 Batch 900 Loss 0.2874\n",
            "Epoch 3 Batch 1000 Loss 0.3761\n",
            "Epoch 3 Batch 1100 Loss 0.2952\n",
            "Epoch 3 Batch 1200 Loss 0.2500\n",
            "Epoch 3 Loss 0.3405\n",
            "Time taken for 1 epoch 99.34506011009216 sec\n",
            "\n",
            "Epoch 4 Batch 0 Loss 0.2466\n",
            "Epoch 4 Batch 100 Loss 0.1612\n",
            "Epoch 4 Batch 200 Loss 0.1693\n",
            "Epoch 4 Batch 300 Loss 0.1878\n",
            "Epoch 4 Batch 400 Loss 0.2074\n",
            "Epoch 4 Batch 500 Loss 0.1916\n",
            "Epoch 4 Batch 600 Loss 0.2124\n",
            "Epoch 4 Batch 700 Loss 0.2309\n",
            "Epoch 4 Batch 800 Loss 0.2179\n",
            "Epoch 4 Batch 900 Loss 0.1616\n",
            "Epoch 4 Batch 1000 Loss 0.2137\n",
            "Epoch 4 Batch 1100 Loss 0.1558\n",
            "Epoch 4 Batch 1200 Loss 0.2016\n",
            "Epoch 4 Loss 0.2102\n",
            "Time taken for 1 epoch 101.14832711219788 sec\n",
            "\n",
            "Epoch 5 Batch 0 Loss 0.1678\n",
            "Epoch 5 Batch 100 Loss 0.0939\n",
            "Epoch 5 Batch 200 Loss 0.1177\n",
            "Epoch 5 Batch 300 Loss 0.1038\n",
            "Epoch 5 Batch 400 Loss 0.1412\n",
            "Epoch 5 Batch 500 Loss 0.1138\n",
            "Epoch 5 Batch 600 Loss 0.1735\n",
            "Epoch 5 Batch 700 Loss 0.1179\n",
            "Epoch 5 Batch 800 Loss 0.1370\n",
            "Epoch 5 Batch 900 Loss 0.1120\n",
            "Epoch 5 Batch 1000 Loss 0.1284\n",
            "Epoch 5 Batch 1100 Loss 0.1237\n",
            "Epoch 5 Batch 1200 Loss 0.1941\n",
            "Epoch 5 Loss 0.1493\n",
            "Time taken for 1 epoch 100.43793034553528 sec\n",
            "\n",
            "Epoch 6 Batch 0 Loss 0.1035\n",
            "Epoch 6 Batch 100 Loss 0.1137\n",
            "Epoch 6 Batch 200 Loss 0.0794\n",
            "Epoch 6 Batch 300 Loss 0.1094\n",
            "Epoch 6 Batch 400 Loss 0.1105\n",
            "Epoch 6 Batch 500 Loss 0.1229\n",
            "Epoch 6 Batch 600 Loss 0.0885\n",
            "Epoch 6 Batch 700 Loss 0.0895\n",
            "Epoch 6 Batch 800 Loss 0.1054\n",
            "Epoch 6 Batch 900 Loss 0.1242\n",
            "Epoch 6 Batch 1000 Loss 0.1545\n",
            "Epoch 6 Batch 1100 Loss 0.1053\n",
            "Epoch 6 Batch 1200 Loss 0.1230\n",
            "Epoch 6 Loss 0.1169\n",
            "Time taken for 1 epoch 101.19237613677979 sec\n",
            "\n",
            "Epoch 7 Batch 0 Loss 0.0847\n",
            "Epoch 7 Batch 100 Loss 0.0552\n",
            "Epoch 7 Batch 200 Loss 0.1031\n",
            "Epoch 7 Batch 300 Loss 0.0656\n",
            "Epoch 7 Batch 400 Loss 0.0634\n",
            "Epoch 7 Batch 500 Loss 0.1035\n",
            "Epoch 7 Batch 600 Loss 0.0823\n",
            "Epoch 7 Batch 700 Loss 0.1145\n",
            "Epoch 7 Batch 800 Loss 0.0982\n",
            "Epoch 7 Batch 900 Loss 0.1027\n",
            "Epoch 7 Batch 1000 Loss 0.1069\n",
            "Epoch 7 Batch 1100 Loss 0.0857\n",
            "Epoch 7 Batch 1200 Loss 0.1117\n",
            "Epoch 7 Loss 0.0994\n",
            "Time taken for 1 epoch 100.22370266914368 sec\n",
            "\n",
            "Epoch 8 Batch 0 Loss 0.0843\n",
            "Epoch 8 Batch 100 Loss 0.0691\n",
            "Epoch 8 Batch 200 Loss 0.0796\n",
            "Epoch 8 Batch 300 Loss 0.0810\n",
            "Epoch 8 Batch 400 Loss 0.0995\n",
            "Epoch 8 Batch 500 Loss 0.0742\n",
            "Epoch 8 Batch 600 Loss 0.0859\n",
            "Epoch 8 Batch 700 Loss 0.0831\n",
            "Epoch 8 Batch 800 Loss 0.0847\n",
            "Epoch 8 Batch 900 Loss 0.0998\n",
            "Epoch 8 Batch 1000 Loss 0.1370\n",
            "Epoch 8 Batch 1100 Loss 0.1133\n",
            "Epoch 8 Batch 1200 Loss 0.0956\n",
            "Epoch 8 Loss 0.0886\n",
            "Time taken for 1 epoch 101.28077173233032 sec\n",
            "\n",
            "Epoch 9 Batch 0 Loss 0.0729\n",
            "Epoch 9 Batch 100 Loss 0.0841\n",
            "Epoch 9 Batch 200 Loss 0.0966\n",
            "Epoch 9 Batch 300 Loss 0.0659\n",
            "Epoch 9 Batch 400 Loss 0.0805\n",
            "Epoch 9 Batch 500 Loss 0.0947\n",
            "Epoch 9 Batch 600 Loss 0.0881\n",
            "Epoch 9 Batch 700 Loss 0.0977\n",
            "Epoch 9 Batch 800 Loss 0.1052\n",
            "Epoch 9 Batch 900 Loss 0.0898\n",
            "Epoch 9 Batch 1000 Loss 0.0896\n",
            "Epoch 9 Batch 1100 Loss 0.0743\n",
            "Epoch 9 Batch 1200 Loss 0.0632\n",
            "Epoch 9 Loss 0.0805\n",
            "Time taken for 1 epoch 100.49649047851562 sec\n",
            "\n",
            "Epoch 10 Batch 0 Loss 0.0550\n",
            "Epoch 10 Batch 100 Loss 0.0622\n",
            "Epoch 10 Batch 200 Loss 0.0896\n",
            "Epoch 10 Batch 300 Loss 0.0749\n",
            "Epoch 10 Batch 400 Loss 0.0944\n",
            "Epoch 10 Batch 500 Loss 0.0472\n",
            "Epoch 10 Batch 600 Loss 0.0688\n",
            "Epoch 10 Batch 700 Loss 0.0913\n",
            "Epoch 10 Batch 800 Loss 0.1212\n",
            "Epoch 10 Batch 900 Loss 0.0738\n",
            "Epoch 10 Batch 1000 Loss 0.1149\n",
            "Epoch 10 Batch 1100 Loss 0.0757\n",
            "Epoch 10 Batch 1200 Loss 0.0766\n",
            "Epoch 10 Loss 0.0763\n",
            "Time taken for 1 epoch 101.88075375556946 sec\n",
            "\n",
            "Epoch 11 Batch 0 Loss 0.0615\n",
            "Epoch 11 Batch 100 Loss 0.0453\n",
            "Epoch 11 Batch 200 Loss 0.0650\n",
            "Epoch 11 Batch 300 Loss 0.0536\n",
            "Epoch 11 Batch 400 Loss 0.0581\n",
            "Epoch 11 Batch 500 Loss 0.0434\n",
            "Epoch 11 Batch 600 Loss 0.0531\n",
            "Epoch 11 Batch 700 Loss 0.0573\n",
            "Epoch 11 Batch 800 Loss 0.0817\n",
            "Epoch 11 Batch 900 Loss 0.0818\n",
            "Epoch 11 Batch 1000 Loss 0.0527\n",
            "Epoch 11 Batch 1100 Loss 0.1166\n",
            "Epoch 11 Batch 1200 Loss 0.1070\n",
            "Epoch 11 Loss 0.0725\n",
            "Time taken for 1 epoch 100.81326079368591 sec\n",
            "\n",
            "Epoch 12 Batch 0 Loss 0.0809\n",
            "Epoch 12 Batch 100 Loss 0.0672\n",
            "Epoch 12 Batch 200 Loss 0.0787\n",
            "Epoch 12 Batch 300 Loss 0.0642\n",
            "Epoch 12 Batch 400 Loss 0.0588\n",
            "Epoch 12 Batch 500 Loss 0.0695\n",
            "Epoch 12 Batch 600 Loss 0.0571\n",
            "Epoch 12 Batch 700 Loss 0.0644\n",
            "Epoch 12 Batch 800 Loss 0.1062\n",
            "Epoch 12 Batch 900 Loss 0.0863\n",
            "Epoch 12 Batch 1000 Loss 0.0970\n",
            "Epoch 12 Batch 1100 Loss 0.0667\n",
            "Epoch 12 Batch 1200 Loss 0.0665\n",
            "Epoch 12 Loss 0.0687\n",
            "Time taken for 1 epoch 101.74502801895142 sec\n",
            "\n",
            "Epoch 13 Batch 0 Loss 0.0538\n",
            "Epoch 13 Batch 100 Loss 0.0358\n",
            "Epoch 13 Batch 200 Loss 0.0396\n",
            "Epoch 13 Batch 300 Loss 0.0393\n",
            "Epoch 13 Batch 400 Loss 0.0627\n",
            "Epoch 13 Batch 500 Loss 0.0524\n",
            "Epoch 13 Batch 600 Loss 0.0756\n",
            "Epoch 13 Batch 700 Loss 0.0492\n",
            "Epoch 13 Batch 800 Loss 0.0732\n",
            "Epoch 13 Batch 900 Loss 0.0800\n",
            "Epoch 13 Batch 1000 Loss 0.0886\n",
            "Epoch 13 Batch 1100 Loss 0.0540\n",
            "Epoch 13 Batch 1200 Loss 0.0799\n",
            "Epoch 13 Loss 0.0653\n",
            "Time taken for 1 epoch 100.55225086212158 sec\n",
            "\n",
            "Epoch 14 Batch 0 Loss 0.0415\n",
            "Epoch 14 Batch 100 Loss 0.0418\n",
            "Epoch 14 Batch 200 Loss 0.0523\n",
            "Epoch 14 Batch 300 Loss 0.0530\n",
            "Epoch 14 Batch 400 Loss 0.0361\n",
            "Epoch 14 Batch 500 Loss 0.0701\n",
            "Epoch 14 Batch 600 Loss 0.0633\n",
            "Epoch 14 Batch 700 Loss 0.0663\n",
            "Epoch 14 Batch 800 Loss 0.0743\n",
            "Epoch 14 Batch 900 Loss 0.0749\n",
            "Epoch 14 Batch 1000 Loss 0.0609\n",
            "Epoch 14 Batch 1100 Loss 0.0428\n",
            "Epoch 14 Batch 1200 Loss 0.0768\n",
            "Epoch 14 Loss 0.0637\n",
            "Time taken for 1 epoch 101.53253698348999 sec\n",
            "\n",
            "Epoch 15 Batch 0 Loss 0.0582\n",
            "Epoch 15 Batch 100 Loss 0.0645\n",
            "Epoch 15 Batch 200 Loss 0.0312\n",
            "Epoch 15 Batch 300 Loss 0.0542\n",
            "Epoch 15 Batch 400 Loss 0.0668\n",
            "Epoch 15 Batch 500 Loss 0.0479\n",
            "Epoch 15 Batch 600 Loss 0.0689\n",
            "Epoch 15 Batch 700 Loss 0.0690\n",
            "Epoch 15 Batch 800 Loss 0.0435\n",
            "Epoch 15 Batch 900 Loss 0.0680\n",
            "Epoch 15 Batch 1000 Loss 0.0409\n",
            "Epoch 15 Batch 1100 Loss 0.1084\n",
            "Epoch 15 Batch 1200 Loss 0.0569\n",
            "Epoch 15 Loss 0.0613\n",
            "Time taken for 1 epoch 100.70819926261902 sec\n",
            "\n",
            "Epoch 16 Batch 0 Loss 0.0280\n",
            "Epoch 16 Batch 100 Loss 0.0464\n",
            "Epoch 16 Batch 200 Loss 0.0405\n",
            "Epoch 16 Batch 300 Loss 0.0709\n",
            "Epoch 16 Batch 400 Loss 0.0328\n",
            "Epoch 16 Batch 500 Loss 0.0535\n",
            "Epoch 16 Batch 600 Loss 0.0634\n",
            "Epoch 16 Batch 700 Loss 0.0655\n",
            "Epoch 16 Batch 800 Loss 0.0442\n",
            "Epoch 16 Batch 900 Loss 0.0680\n",
            "Epoch 16 Batch 1000 Loss 0.0728\n",
            "Epoch 16 Batch 1100 Loss 0.0820\n",
            "Epoch 16 Batch 1200 Loss 0.0867\n",
            "Epoch 16 Loss 0.0594\n",
            "Time taken for 1 epoch 101.51409268379211 sec\n",
            "\n",
            "Epoch 17 Batch 0 Loss 0.0397\n",
            "Epoch 17 Batch 100 Loss 0.0385\n",
            "Epoch 17 Batch 200 Loss 0.0557\n",
            "Epoch 17 Batch 300 Loss 0.0289\n",
            "Epoch 17 Batch 400 Loss 0.0695\n",
            "Epoch 17 Batch 500 Loss 0.0672\n",
            "Epoch 17 Batch 600 Loss 0.0379\n",
            "Epoch 17 Batch 700 Loss 0.0653\n",
            "Epoch 17 Batch 800 Loss 0.0598\n",
            "Epoch 17 Batch 900 Loss 0.0653\n",
            "Epoch 17 Batch 1000 Loss 0.0496\n",
            "Epoch 17 Batch 1100 Loss 0.0551\n",
            "Epoch 17 Batch 1200 Loss 0.0805\n",
            "Epoch 17 Loss 0.0572\n",
            "Time taken for 1 epoch 100.62715172767639 sec\n",
            "\n",
            "Epoch 18 Batch 0 Loss 0.0466\n",
            "Epoch 18 Batch 100 Loss 0.0245\n",
            "Epoch 18 Batch 200 Loss 0.0550\n",
            "Epoch 18 Batch 300 Loss 0.0483\n",
            "Epoch 18 Batch 400 Loss 0.0395\n",
            "Epoch 18 Batch 500 Loss 0.0649\n",
            "Epoch 18 Batch 600 Loss 0.0308\n",
            "Epoch 18 Batch 700 Loss 0.0891\n",
            "Epoch 18 Batch 800 Loss 0.0434\n",
            "Epoch 18 Batch 900 Loss 0.0947\n",
            "Epoch 18 Batch 1000 Loss 0.0641\n",
            "Epoch 18 Batch 1100 Loss 0.0549\n",
            "Epoch 18 Batch 1200 Loss 0.0612\n",
            "Epoch 18 Loss 0.0561\n",
            "Time taken for 1 epoch 101.44614338874817 sec\n",
            "\n",
            "Epoch 19 Batch 0 Loss 0.0530\n",
            "Epoch 19 Batch 100 Loss 0.0369\n",
            "Epoch 19 Batch 200 Loss 0.0298\n",
            "Epoch 19 Batch 300 Loss 0.0222\n",
            "Epoch 19 Batch 400 Loss 0.0340\n",
            "Epoch 19 Batch 500 Loss 0.0423\n",
            "Epoch 19 Batch 600 Loss 0.0697\n",
            "Epoch 19 Batch 700 Loss 0.0762\n",
            "Epoch 19 Batch 800 Loss 0.0795\n",
            "Epoch 19 Batch 900 Loss 0.0536\n",
            "Epoch 19 Batch 1000 Loss 0.0493\n",
            "Epoch 19 Batch 1100 Loss 0.0484\n",
            "Epoch 19 Batch 1200 Loss 0.0687\n",
            "Epoch 19 Loss 0.0551\n",
            "Time taken for 1 epoch 100.44313716888428 sec\n",
            "\n",
            "Epoch 20 Batch 0 Loss 0.0312\n",
            "Epoch 20 Batch 100 Loss 0.0801\n",
            "Epoch 20 Batch 200 Loss 0.0394\n",
            "Epoch 20 Batch 300 Loss 0.0289\n",
            "Epoch 20 Batch 400 Loss 0.0762\n",
            "Epoch 20 Batch 500 Loss 0.0301\n",
            "Epoch 20 Batch 600 Loss 0.0354\n",
            "Epoch 20 Batch 700 Loss 0.0545\n",
            "Epoch 20 Batch 800 Loss 0.0479\n",
            "Epoch 20 Batch 900 Loss 0.0427\n",
            "Epoch 20 Batch 1000 Loss 0.0532\n",
            "Epoch 20 Batch 1100 Loss 0.0541\n",
            "Epoch 20 Batch 1200 Loss 0.0580\n",
            "Epoch 20 Loss 0.0538\n",
            "Time taken for 1 epoch 101.32228469848633 sec\n",
            "\n",
            "Epoch 21 Batch 0 Loss 0.0309\n",
            "Epoch 21 Batch 100 Loss 0.0253\n",
            "Epoch 21 Batch 200 Loss 0.0595\n",
            "Epoch 21 Batch 300 Loss 0.0265\n",
            "Epoch 21 Batch 400 Loss 0.0452\n",
            "Epoch 21 Batch 500 Loss 0.0848\n",
            "Epoch 21 Batch 600 Loss 0.0500\n",
            "Epoch 21 Batch 700 Loss 0.0309\n",
            "Epoch 21 Batch 800 Loss 0.0358\n",
            "Epoch 21 Batch 900 Loss 0.0689\n",
            "Epoch 21 Batch 1000 Loss 0.0507\n",
            "Epoch 21 Batch 1100 Loss 0.0767\n",
            "Epoch 21 Batch 1200 Loss 0.0863\n",
            "Epoch 21 Loss 0.0526\n",
            "Time taken for 1 epoch 100.23339867591858 sec\n",
            "\n",
            "Epoch 22 Batch 0 Loss 0.0295\n",
            "Epoch 22 Batch 100 Loss 0.0447\n",
            "Epoch 22 Batch 200 Loss 0.0208\n",
            "Epoch 22 Batch 300 Loss 0.0378\n",
            "Epoch 22 Batch 400 Loss 0.0437\n",
            "Epoch 22 Batch 500 Loss 0.0559\n",
            "Epoch 22 Batch 600 Loss 0.0790\n",
            "Epoch 22 Batch 700 Loss 0.0629\n",
            "Epoch 22 Batch 800 Loss 0.0702\n",
            "Epoch 22 Batch 900 Loss 0.0373\n",
            "Epoch 22 Batch 1000 Loss 0.0506\n",
            "Epoch 22 Batch 1100 Loss 0.0585\n",
            "Epoch 22 Batch 1200 Loss 0.0729\n",
            "Epoch 22 Loss 0.0510\n",
            "Time taken for 1 epoch 101.18999743461609 sec\n",
            "\n",
            "Epoch 23 Batch 0 Loss 0.0376\n",
            "Epoch 23 Batch 100 Loss 0.0388\n",
            "Epoch 23 Batch 200 Loss 0.0408\n",
            "Epoch 23 Batch 300 Loss 0.0490\n",
            "Epoch 23 Batch 400 Loss 0.0622\n",
            "Epoch 23 Batch 500 Loss 0.0140\n",
            "Epoch 23 Batch 600 Loss 0.0715\n",
            "Epoch 23 Batch 700 Loss 0.0326\n",
            "Epoch 23 Batch 800 Loss 0.0467\n",
            "Epoch 23 Batch 900 Loss 0.0609\n",
            "Epoch 23 Batch 1000 Loss 0.0808\n",
            "Epoch 23 Batch 1100 Loss 0.0493\n",
            "Epoch 23 Batch 1200 Loss 0.0753\n",
            "Epoch 23 Loss 0.0512\n",
            "Time taken for 1 epoch 100.20522332191467 sec\n",
            "\n",
            "Epoch 24 Batch 0 Loss 0.0195\n",
            "Epoch 24 Batch 100 Loss 0.0261\n",
            "Epoch 24 Batch 200 Loss 0.0515\n",
            "Epoch 24 Batch 300 Loss 0.0431\n",
            "Epoch 24 Batch 400 Loss 0.0525\n",
            "Epoch 24 Batch 500 Loss 0.0392\n",
            "Epoch 24 Batch 600 Loss 0.0588\n",
            "Epoch 24 Batch 700 Loss 0.0295\n",
            "Epoch 24 Batch 800 Loss 0.0367\n",
            "Epoch 24 Batch 900 Loss 0.0897\n",
            "Epoch 24 Batch 1000 Loss 0.0580\n",
            "Epoch 24 Batch 1100 Loss 0.0341\n",
            "Epoch 24 Batch 1200 Loss 0.0732\n",
            "Epoch 24 Loss 0.0487\n",
            "Time taken for 1 epoch 101.17686748504639 sec\n",
            "\n",
            "Epoch 25 Batch 0 Loss 0.0385\n",
            "Epoch 25 Batch 100 Loss 0.0281\n",
            "Epoch 25 Batch 200 Loss 0.0154\n",
            "Epoch 25 Batch 300 Loss 0.0537\n",
            "Epoch 25 Batch 400 Loss 0.0550\n",
            "Epoch 25 Batch 500 Loss 0.0476\n",
            "Epoch 25 Batch 600 Loss 0.0652\n",
            "Epoch 25 Batch 700 Loss 0.0570\n",
            "Epoch 25 Batch 800 Loss 0.0481\n",
            "Epoch 25 Batch 900 Loss 0.0582\n",
            "Epoch 25 Batch 1000 Loss 0.0443\n",
            "Epoch 25 Batch 1100 Loss 0.0607\n",
            "Epoch 25 Batch 1200 Loss 0.0333\n",
            "Epoch 25 Loss 0.0484\n",
            "Time taken for 1 epoch 100.24333691596985 sec\n",
            "\n",
            "Epoch 26 Batch 0 Loss 0.0348\n",
            "Epoch 26 Batch 100 Loss 0.0331\n",
            "Epoch 26 Batch 200 Loss 0.0325\n",
            "Epoch 26 Batch 300 Loss 0.0324\n",
            "Epoch 26 Batch 400 Loss 0.0365\n",
            "Epoch 26 Batch 500 Loss 0.0421\n",
            "Epoch 26 Batch 600 Loss 0.0442\n",
            "Epoch 26 Batch 700 Loss 0.0287\n",
            "Epoch 26 Batch 800 Loss 0.0603\n",
            "Epoch 26 Batch 900 Loss 0.0346\n",
            "Epoch 26 Batch 1000 Loss 0.0474\n",
            "Epoch 26 Batch 1100 Loss 0.0555\n",
            "Epoch 26 Batch 1200 Loss 0.0594\n",
            "Epoch 26 Loss 0.0478\n",
            "Time taken for 1 epoch 100.99711585044861 sec\n",
            "\n",
            "Epoch 27 Batch 0 Loss 0.0612\n",
            "Epoch 27 Batch 100 Loss 0.0300\n",
            "Epoch 27 Batch 200 Loss 0.0266\n",
            "Epoch 27 Batch 300 Loss 0.0311\n",
            "Epoch 27 Batch 400 Loss 0.0413\n",
            "Epoch 27 Batch 500 Loss 0.0434\n",
            "Epoch 27 Batch 600 Loss 0.0332\n",
            "Epoch 27 Batch 700 Loss 0.0637\n",
            "Epoch 27 Batch 800 Loss 0.0645\n",
            "Epoch 27 Batch 900 Loss 0.0475\n",
            "Epoch 27 Batch 1000 Loss 0.0407\n",
            "Epoch 27 Batch 1100 Loss 0.0438\n",
            "Epoch 27 Batch 1200 Loss 0.0659\n",
            "Epoch 27 Loss 0.0470\n",
            "Time taken for 1 epoch 100.23549771308899 sec\n",
            "\n",
            "Epoch 28 Batch 0 Loss 0.0569\n",
            "Epoch 28 Batch 100 Loss 0.0325\n",
            "Epoch 28 Batch 200 Loss 0.0269\n",
            "Epoch 28 Batch 300 Loss 0.0385\n",
            "Epoch 28 Batch 400 Loss 0.0401\n",
            "Epoch 28 Batch 500 Loss 0.0444\n",
            "Epoch 28 Batch 600 Loss 0.0302\n",
            "Epoch 28 Batch 700 Loss 0.0747\n",
            "Epoch 28 Batch 800 Loss 0.0675\n",
            "Epoch 28 Batch 900 Loss 0.0480\n",
            "Epoch 28 Batch 1000 Loss 0.0626\n",
            "Epoch 28 Batch 1100 Loss 0.0657\n",
            "Epoch 28 Batch 1200 Loss 0.0576\n",
            "Epoch 28 Loss 0.0468\n",
            "Time taken for 1 epoch 100.99717879295349 sec\n",
            "\n",
            "Epoch 29 Batch 0 Loss 0.0487\n",
            "Epoch 29 Batch 100 Loss 0.0265\n",
            "Epoch 29 Batch 200 Loss 0.0212\n",
            "Epoch 29 Batch 300 Loss 0.0251\n",
            "Epoch 29 Batch 400 Loss 0.0327\n",
            "Epoch 29 Batch 500 Loss 0.0403\n",
            "Epoch 29 Batch 600 Loss 0.0490\n",
            "Epoch 29 Batch 700 Loss 0.0376\n",
            "Epoch 29 Batch 800 Loss 0.0556\n",
            "Epoch 29 Batch 900 Loss 0.0501\n",
            "Epoch 29 Batch 1000 Loss 0.0497\n",
            "Epoch 29 Batch 1100 Loss 0.0443\n",
            "Epoch 29 Batch 1200 Loss 0.0458\n",
            "Epoch 29 Loss 0.0457\n",
            "Time taken for 1 epoch 100.21454405784607 sec\n",
            "\n",
            "Epoch 30 Batch 0 Loss 0.0238\n",
            "Epoch 30 Batch 100 Loss 0.0482\n",
            "Epoch 30 Batch 200 Loss 0.0261\n",
            "Epoch 30 Batch 300 Loss 0.0197\n",
            "Epoch 30 Batch 400 Loss 0.0367\n",
            "Epoch 30 Batch 500 Loss 0.0415\n",
            "Epoch 30 Batch 600 Loss 0.0286\n",
            "Epoch 30 Batch 700 Loss 0.0434\n",
            "Epoch 30 Batch 800 Loss 0.0450\n",
            "Epoch 30 Batch 900 Loss 0.0513\n",
            "Epoch 30 Batch 1000 Loss 0.0412\n",
            "Epoch 30 Batch 1100 Loss 0.0472\n",
            "Epoch 30 Batch 1200 Loss 0.0589\n",
            "Epoch 30 Loss 0.0448\n",
            "Time taken for 1 epoch 100.96315932273865 sec\n",
            "\n",
            "Epoch 31 Batch 0 Loss 0.0272\n",
            "Epoch 31 Batch 100 Loss 0.0519\n",
            "Epoch 31 Batch 200 Loss 0.0496\n",
            "Epoch 31 Batch 300 Loss 0.0498\n",
            "Epoch 31 Batch 400 Loss 0.0231\n",
            "Epoch 31 Batch 500 Loss 0.0482\n",
            "Epoch 31 Batch 600 Loss 0.0384\n",
            "Epoch 31 Batch 700 Loss 0.0454\n",
            "Epoch 31 Batch 800 Loss 0.0466\n",
            "Epoch 31 Batch 900 Loss 0.0428\n",
            "Epoch 31 Batch 1000 Loss 0.0343\n",
            "Epoch 31 Batch 1100 Loss 0.0373\n",
            "Epoch 31 Batch 1200 Loss 0.0463\n",
            "Epoch 31 Loss 0.0448\n",
            "Time taken for 1 epoch 100.21841430664062 sec\n",
            "\n",
            "Epoch 32 Batch 0 Loss 0.0191\n",
            "Epoch 32 Batch 100 Loss 0.0327\n",
            "Epoch 32 Batch 200 Loss 0.0381\n",
            "Epoch 32 Batch 300 Loss 0.0396\n",
            "Epoch 32 Batch 400 Loss 0.0314\n",
            "Epoch 32 Batch 500 Loss 0.0724\n",
            "Epoch 32 Batch 600 Loss 0.0505\n",
            "Epoch 32 Batch 700 Loss 0.0616\n",
            "Epoch 32 Batch 800 Loss 0.0193\n",
            "Epoch 32 Batch 900 Loss 0.0444\n",
            "Epoch 32 Batch 1000 Loss 0.0540\n",
            "Epoch 32 Batch 1100 Loss 0.0339\n",
            "Epoch 32 Batch 1200 Loss 0.0262\n",
            "Epoch 32 Loss 0.0445\n",
            "Time taken for 1 epoch 101.01676487922668 sec\n",
            "\n",
            "Epoch 33 Batch 0 Loss 0.0311\n",
            "Epoch 33 Batch 100 Loss 0.0390\n",
            "Epoch 33 Batch 200 Loss 0.0762\n",
            "Epoch 33 Batch 300 Loss 0.0466\n",
            "Epoch 33 Batch 400 Loss 0.0373\n",
            "Epoch 33 Batch 500 Loss 0.0242\n",
            "Epoch 33 Batch 600 Loss 0.0284\n",
            "Epoch 33 Batch 700 Loss 0.0431\n",
            "Epoch 33 Batch 800 Loss 0.0462\n",
            "Epoch 33 Batch 900 Loss 0.0403\n",
            "Epoch 33 Batch 1000 Loss 0.0489\n",
            "Epoch 33 Batch 1100 Loss 0.0503\n",
            "Epoch 33 Batch 1200 Loss 0.0474\n",
            "Epoch 33 Loss 0.0440\n",
            "Time taken for 1 epoch 100.14825177192688 sec\n",
            "\n",
            "Epoch 34 Batch 0 Loss 0.0142\n",
            "Epoch 34 Batch 100 Loss 0.0266\n",
            "Epoch 34 Batch 200 Loss 0.0510\n",
            "Epoch 34 Batch 300 Loss 0.0464\n",
            "Epoch 34 Batch 400 Loss 0.0446\n",
            "Epoch 34 Batch 500 Loss 0.0608\n",
            "Epoch 34 Batch 600 Loss 0.0351\n",
            "Epoch 34 Batch 700 Loss 0.0502\n",
            "Epoch 34 Batch 800 Loss 0.0527\n",
            "Epoch 34 Batch 900 Loss 0.0487\n",
            "Epoch 34 Batch 1000 Loss 0.0790\n",
            "Epoch 34 Batch 1100 Loss 0.0487\n",
            "Epoch 34 Batch 1200 Loss 0.0486\n",
            "Epoch 34 Loss 0.0432\n",
            "Time taken for 1 epoch 101.11473751068115 sec\n",
            "\n",
            "Epoch 35 Batch 0 Loss 0.0270\n",
            "Epoch 35 Batch 100 Loss 0.0340\n",
            "Epoch 35 Batch 200 Loss 0.0311\n",
            "Epoch 35 Batch 300 Loss 0.0354\n",
            "Epoch 35 Batch 400 Loss 0.0387\n",
            "Epoch 35 Batch 500 Loss 0.0308\n",
            "Epoch 35 Batch 600 Loss 0.0360\n",
            "Epoch 35 Batch 700 Loss 0.0512\n",
            "Epoch 35 Batch 800 Loss 0.0466\n",
            "Epoch 35 Batch 900 Loss 0.0400\n",
            "Epoch 35 Batch 1000 Loss 0.0333\n",
            "Epoch 35 Batch 1100 Loss 0.0390\n",
            "Epoch 35 Batch 1200 Loss 0.0337\n",
            "Epoch 35 Loss 0.0427\n",
            "Time taken for 1 epoch 100.2404453754425 sec\n",
            "\n",
            "Epoch 36 Batch 0 Loss 0.0329\n",
            "Epoch 36 Batch 100 Loss 0.0388\n",
            "Epoch 36 Batch 200 Loss 0.0424\n",
            "Epoch 36 Batch 300 Loss 0.0201\n",
            "Epoch 36 Batch 400 Loss 0.0363\n",
            "Epoch 36 Batch 500 Loss 0.0331\n",
            "Epoch 36 Batch 600 Loss 0.0346\n",
            "Epoch 36 Batch 700 Loss 0.0563\n",
            "Epoch 36 Batch 800 Loss 0.0557\n",
            "Epoch 36 Batch 900 Loss 0.0762\n",
            "Epoch 36 Batch 1000 Loss 0.0405\n",
            "Epoch 36 Batch 1100 Loss 0.0547\n",
            "Epoch 36 Batch 1200 Loss 0.0446\n",
            "Epoch 36 Loss 0.0422\n",
            "Time taken for 1 epoch 100.98069906234741 sec\n",
            "\n",
            "Epoch 37 Batch 0 Loss 0.0307\n",
            "Epoch 37 Batch 100 Loss 0.0294\n",
            "Epoch 37 Batch 200 Loss 0.0378\n",
            "Epoch 37 Batch 300 Loss 0.0366\n",
            "Epoch 37 Batch 400 Loss 0.0487\n",
            "Epoch 37 Batch 500 Loss 0.0328\n",
            "Epoch 37 Batch 600 Loss 0.0432\n",
            "Epoch 37 Batch 700 Loss 0.0340\n",
            "Epoch 37 Batch 800 Loss 0.0630\n",
            "Epoch 37 Batch 900 Loss 0.0668\n",
            "Epoch 37 Batch 1000 Loss 0.0714\n",
            "Epoch 37 Batch 1100 Loss 0.0656\n",
            "Epoch 37 Batch 1200 Loss 0.0579\n",
            "Epoch 37 Loss 0.0415\n",
            "Time taken for 1 epoch 100.1763277053833 sec\n",
            "\n",
            "Epoch 38 Batch 0 Loss 0.0347\n",
            "Epoch 38 Batch 100 Loss 0.0173\n",
            "Epoch 38 Batch 200 Loss 0.0317\n",
            "Epoch 38 Batch 300 Loss 0.0444\n",
            "Epoch 38 Batch 400 Loss 0.0413\n",
            "Epoch 38 Batch 500 Loss 0.0266\n",
            "Epoch 38 Batch 600 Loss 0.0340\n",
            "Epoch 38 Batch 700 Loss 0.0401\n",
            "Epoch 38 Batch 800 Loss 0.0273\n",
            "Epoch 38 Batch 900 Loss 0.0573\n",
            "Epoch 38 Batch 1000 Loss 0.0268\n",
            "Epoch 38 Batch 1100 Loss 0.0439\n",
            "Epoch 38 Batch 1200 Loss 0.0357\n",
            "Epoch 38 Loss 0.0416\n",
            "Time taken for 1 epoch 100.98905086517334 sec\n",
            "\n",
            "Epoch 39 Batch 0 Loss 0.0240\n",
            "Epoch 39 Batch 100 Loss 0.0376\n",
            "Epoch 39 Batch 200 Loss 0.0607\n",
            "Epoch 39 Batch 300 Loss 0.0563\n",
            "Epoch 39 Batch 400 Loss 0.0306\n",
            "Epoch 39 Batch 500 Loss 0.0466\n",
            "Epoch 39 Batch 600 Loss 0.0255\n",
            "Epoch 39 Batch 700 Loss 0.0494\n",
            "Epoch 39 Batch 800 Loss 0.0429\n",
            "Epoch 39 Batch 900 Loss 0.0685\n",
            "Epoch 39 Batch 1000 Loss 0.0476\n",
            "Epoch 39 Batch 1100 Loss 0.0313\n",
            "Epoch 39 Batch 1200 Loss 0.0261\n",
            "Epoch 39 Loss 0.0407\n",
            "Time taken for 1 epoch 100.14841222763062 sec\n",
            "\n",
            "Epoch 40 Batch 0 Loss 0.0311\n",
            "Epoch 40 Batch 100 Loss 0.0127\n",
            "Epoch 40 Batch 200 Loss 0.0370\n",
            "Epoch 40 Batch 300 Loss 0.0182\n",
            "Epoch 40 Batch 400 Loss 0.0276\n",
            "Epoch 40 Batch 500 Loss 0.0337\n",
            "Epoch 40 Batch 600 Loss 0.0378\n",
            "Epoch 40 Batch 700 Loss 0.0458\n",
            "Epoch 40 Batch 800 Loss 0.0365\n",
            "Epoch 40 Batch 900 Loss 0.0453\n",
            "Epoch 40 Batch 1000 Loss 0.0469\n",
            "Epoch 40 Batch 1100 Loss 0.0289\n",
            "Epoch 40 Batch 1200 Loss 0.0473\n",
            "Epoch 40 Loss 0.0411\n",
            "Time taken for 1 epoch 100.99866533279419 sec\n",
            "\n",
            "Epoch 41 Batch 0 Loss 0.0367\n",
            "Epoch 41 Batch 100 Loss 0.0183\n",
            "Epoch 41 Batch 200 Loss 0.0273\n",
            "Epoch 41 Batch 300 Loss 0.0543\n",
            "Epoch 41 Batch 400 Loss 0.0271\n",
            "Epoch 41 Batch 500 Loss 0.0287\n",
            "Epoch 41 Batch 600 Loss 0.0355\n",
            "Epoch 41 Batch 700 Loss 0.0384\n",
            "Epoch 41 Batch 800 Loss 0.0375\n",
            "Epoch 41 Batch 900 Loss 0.0337\n",
            "Epoch 41 Batch 1000 Loss 0.0488\n",
            "Epoch 41 Batch 1100 Loss 0.0318\n",
            "Epoch 41 Batch 1200 Loss 0.0578\n",
            "Epoch 41 Loss 0.0407\n",
            "Time taken for 1 epoch 100.20476150512695 sec\n",
            "\n",
            "Epoch 42 Batch 0 Loss 0.0273\n",
            "Epoch 42 Batch 100 Loss 0.0273\n",
            "Epoch 42 Batch 200 Loss 0.0336\n",
            "Epoch 42 Batch 300 Loss 0.0307\n",
            "Epoch 42 Batch 400 Loss 0.0166\n",
            "Epoch 42 Batch 500 Loss 0.0439\n",
            "Epoch 42 Batch 600 Loss 0.0453\n",
            "Epoch 42 Batch 700 Loss 0.0371\n",
            "Epoch 42 Batch 800 Loss 0.0515\n",
            "Epoch 42 Batch 900 Loss 0.0407\n",
            "Epoch 42 Batch 1000 Loss 0.0644\n",
            "Epoch 42 Batch 1100 Loss 0.0389\n",
            "Epoch 42 Batch 1200 Loss 0.0504\n",
            "Epoch 42 Loss 0.0402\n",
            "Time taken for 1 epoch 101.16368341445923 sec\n",
            "\n",
            "Epoch 43 Batch 0 Loss 0.0323\n",
            "Epoch 43 Batch 100 Loss 0.0354\n",
            "Epoch 43 Batch 200 Loss 0.0214\n",
            "Epoch 43 Batch 300 Loss 0.0222\n",
            "Epoch 43 Batch 400 Loss 0.0480\n",
            "Epoch 43 Batch 500 Loss 0.0285\n",
            "Epoch 43 Batch 600 Loss 0.0272\n",
            "Epoch 43 Batch 700 Loss 0.0506\n",
            "Epoch 43 Batch 800 Loss 0.0517\n",
            "Epoch 43 Batch 900 Loss 0.0403\n",
            "Epoch 43 Batch 1000 Loss 0.0349\n",
            "Epoch 43 Batch 1100 Loss 0.0465\n",
            "Epoch 43 Batch 1200 Loss 0.0531\n",
            "Epoch 43 Loss 0.0398\n",
            "Time taken for 1 epoch 100.1477279663086 sec\n",
            "\n",
            "Epoch 44 Batch 0 Loss 0.0252\n",
            "Epoch 44 Batch 100 Loss 0.0422\n",
            "Epoch 44 Batch 200 Loss 0.0292\n",
            "Epoch 44 Batch 300 Loss 0.0308\n",
            "Epoch 44 Batch 400 Loss 0.0456\n",
            "Epoch 44 Batch 500 Loss 0.0453\n",
            "Epoch 44 Batch 600 Loss 0.0456\n",
            "Epoch 44 Batch 700 Loss 0.0512\n",
            "Epoch 44 Batch 800 Loss 0.0476\n",
            "Epoch 44 Batch 900 Loss 0.0400\n",
            "Epoch 44 Batch 1000 Loss 0.0288\n",
            "Epoch 44 Batch 1100 Loss 0.0335\n",
            "Epoch 44 Batch 1200 Loss 0.0818\n",
            "Epoch 44 Loss 0.0405\n",
            "Time taken for 1 epoch 101.21849536895752 sec\n",
            "\n",
            "Epoch 45 Batch 0 Loss 0.0233\n",
            "Epoch 45 Batch 100 Loss 0.0399\n",
            "Epoch 45 Batch 200 Loss 0.0288\n",
            "Epoch 45 Batch 300 Loss 0.0510\n",
            "Epoch 45 Batch 400 Loss 0.0517\n",
            "Epoch 45 Batch 500 Loss 0.0431\n",
            "Epoch 45 Batch 600 Loss 0.0456\n",
            "Epoch 45 Batch 700 Loss 0.0349\n",
            "Epoch 45 Batch 800 Loss 0.0339\n",
            "Epoch 45 Batch 900 Loss 0.0251\n",
            "Epoch 45 Batch 1000 Loss 0.0411\n",
            "Epoch 45 Batch 1100 Loss 0.0428\n",
            "Epoch 45 Batch 1200 Loss 0.0326\n",
            "Epoch 45 Loss 0.0397\n",
            "Time taken for 1 epoch 100.17763113975525 sec\n",
            "\n",
            "Epoch 46 Batch 0 Loss 0.0376\n",
            "Epoch 46 Batch 100 Loss 0.0200\n",
            "Epoch 46 Batch 200 Loss 0.0248\n",
            "Epoch 46 Batch 300 Loss 0.0364\n",
            "Epoch 46 Batch 400 Loss 0.0160\n",
            "Epoch 46 Batch 500 Loss 0.0264\n",
            "Epoch 46 Batch 600 Loss 0.0423\n",
            "Epoch 46 Batch 700 Loss 0.0672\n",
            "Epoch 46 Batch 800 Loss 0.0546\n",
            "Epoch 46 Batch 900 Loss 0.0321\n",
            "Epoch 46 Batch 1000 Loss 0.0275\n",
            "Epoch 46 Batch 1100 Loss 0.0397\n",
            "Epoch 46 Batch 1200 Loss 0.0524\n",
            "Epoch 46 Loss 0.0396\n",
            "Time taken for 1 epoch 100.997230052948 sec\n",
            "\n",
            "Epoch 47 Batch 0 Loss 0.0421\n",
            "Epoch 47 Batch 100 Loss 0.0376\n",
            "Epoch 47 Batch 200 Loss 0.0514\n",
            "Epoch 47 Batch 300 Loss 0.0212\n",
            "Epoch 47 Batch 400 Loss 0.0327\n",
            "Epoch 47 Batch 500 Loss 0.0369\n",
            "Epoch 47 Batch 600 Loss 0.0627\n",
            "Epoch 47 Batch 700 Loss 0.0295\n",
            "Epoch 47 Batch 800 Loss 0.0461\n",
            "Epoch 47 Batch 900 Loss 0.0633\n",
            "Epoch 47 Batch 1000 Loss 0.0550\n",
            "Epoch 47 Batch 1100 Loss 0.0537\n",
            "Epoch 47 Batch 1200 Loss 0.0384\n",
            "Epoch 47 Loss 0.0392\n",
            "Time taken for 1 epoch 100.31672215461731 sec\n",
            "\n",
            "Epoch 48 Batch 0 Loss 0.0231\n",
            "Epoch 48 Batch 100 Loss 0.0281\n",
            "Epoch 48 Batch 200 Loss 0.0599\n",
            "Epoch 48 Batch 300 Loss 0.0348\n",
            "Epoch 48 Batch 400 Loss 0.0238\n",
            "Epoch 48 Batch 500 Loss 0.0473\n",
            "Epoch 48 Batch 600 Loss 0.0286\n",
            "Epoch 48 Batch 700 Loss 0.0573\n",
            "Epoch 48 Batch 800 Loss 0.0384\n",
            "Epoch 48 Batch 900 Loss 0.0290\n",
            "Epoch 48 Batch 1000 Loss 0.0310\n",
            "Epoch 48 Batch 1100 Loss 0.0489\n",
            "Epoch 48 Batch 1200 Loss 0.0537\n",
            "Epoch 48 Loss 0.0382\n",
            "Time taken for 1 epoch 101.23858523368835 sec\n",
            "\n",
            "Epoch 49 Batch 0 Loss 0.0401\n",
            "Epoch 49 Batch 100 Loss 0.0207\n",
            "Epoch 49 Batch 200 Loss 0.0270\n",
            "Epoch 49 Batch 300 Loss 0.0453\n",
            "Epoch 49 Batch 400 Loss 0.0325\n",
            "Epoch 49 Batch 500 Loss 0.0321\n",
            "Epoch 49 Batch 600 Loss 0.0255\n",
            "Epoch 49 Batch 700 Loss 0.0315\n",
            "Epoch 49 Batch 800 Loss 0.0556\n",
            "Epoch 49 Batch 900 Loss 0.0429\n",
            "Epoch 49 Batch 1000 Loss 0.0375\n",
            "Epoch 49 Batch 1100 Loss 0.0740\n",
            "Epoch 49 Batch 1200 Loss 0.0699\n",
            "Epoch 49 Loss 0.0394\n",
            "Time taken for 1 epoch 100.43313550949097 sec\n",
            "\n",
            "Epoch 50 Batch 0 Loss 0.0460\n",
            "Epoch 50 Batch 100 Loss 0.0475\n",
            "Epoch 50 Batch 200 Loss 0.0371\n",
            "Epoch 50 Batch 300 Loss 0.0269\n",
            "Epoch 50 Batch 400 Loss 0.0273\n",
            "Epoch 50 Batch 500 Loss 0.0260\n",
            "Epoch 50 Batch 600 Loss 0.0302\n",
            "Epoch 50 Batch 700 Loss 0.0339\n",
            "Epoch 50 Batch 800 Loss 0.0459\n",
            "Epoch 50 Batch 900 Loss 0.0483\n",
            "Epoch 50 Batch 1000 Loss 0.0394\n",
            "Epoch 50 Batch 1100 Loss 0.0510\n",
            "Epoch 50 Batch 1200 Loss 0.0336\n",
            "Epoch 50 Loss 0.0382\n",
            "Time taken for 1 epoch 101.26408410072327 sec\n",
            "\n"
          ]
        }
      ]
    },
    {
      "cell_type": "markdown",
      "metadata": {
        "id": "mU3Ce8M6I3rz"
      },
      "source": [
        "## Translate\n",
        "\n",
        "* The evaluate function is similar to the training loop, except we don't use *teacher forcing* here. The input to the decoder at each time step is its previous predictions along with the hidden state and the encoder output.\n",
        "* Stop predicting when the model predicts the *end token*.\n",
        "* And store the *attention weights for every time step*.\n",
        "\n",
        "Note: The encoder output is calculated only once for one input."
      ]
    },
    {
      "cell_type": "code",
      "metadata": {
        "id": "EbQpyYs13jF_"
      },
      "source": [
        "def evaluate(sentence):\n",
        "  attention_plot = np.zeros((max_length_targ, max_length_inp))\n",
        "\n",
        "  sentence = preprocess_sentence(sentence)\n",
        "\n",
        "  inputs = [inp_lang.word_index[i] for i in sentence.split(' ')]\n",
        "  inputs = tf.keras.preprocessing.sequence.pad_sequences([inputs],\n",
        "                                                         maxlen=max_length_inp,\n",
        "                                                         padding='post')\n",
        "  inputs = tf.convert_to_tensor(inputs)\n",
        "\n",
        "  result = ''\n",
        "\n",
        "  hidden = [tf.zeros((1, units))]\n",
        "  enc_out, enc_hidden = encoder(inputs, hidden)\n",
        "\n",
        "  dec_hidden = enc_hidden\n",
        "  dec_input = tf.expand_dims([targ_lang.word_index['<start>']], 0)\n",
        "\n",
        "  for t in range(max_length_targ):\n",
        "    predictions, dec_hidden, attention_weights = decoder(dec_input,\n",
        "                                                         dec_hidden,\n",
        "                                                         enc_out)\n",
        "\n",
        "    # storing the attention weights to plot later on\n",
        "    attention_weights = tf.reshape(attention_weights, (-1, ))\n",
        "    attention_plot[t] = attention_weights.numpy()\n",
        "\n",
        "    predicted_id = tf.argmax(predictions[0]).numpy()\n",
        "\n",
        "    result += targ_lang.index_word[predicted_id] + ' '\n",
        "\n",
        "    if targ_lang.index_word[predicted_id] == '<end>':\n",
        "      return result, sentence, attention_plot\n",
        "\n",
        "    # the predicted ID is fed back into the model\n",
        "    dec_input = tf.expand_dims([predicted_id], 0)\n",
        "\n",
        "  return result, sentence, attention_plot"
      ],
      "execution_count": 29,
      "outputs": []
    },
    {
      "cell_type": "code",
      "metadata": {
        "id": "Qjy26Fe8Bv5d"
      },
      "source": [
        "# function for plotting the attention weights\n",
        "def plot_attention(attention, sentence, predicted_sentence):\n",
        "  fig = plt.figure(figsize=(10,10))\n",
        "  ax = fig.add_subplot(1, 1, 1)\n",
        "  ax.matshow(attention, cmap='viridis')\n",
        "\n",
        "  fontdict = {'fontsize': 14}\n",
        "\n",
        "  ax.set_xticklabels([''] + sentence, fontdict=fontdict, rotation=90)\n",
        "  ax.set_yticklabels([''] + predicted_sentence, fontdict=fontdict)\n",
        "\n",
        "  ax.xaxis.set_major_locator(ticker.MultipleLocator(1))\n",
        "  ax.yaxis.set_major_locator(ticker.MultipleLocator(1))\n",
        "\n",
        "  plt.show()"
      ],
      "execution_count": 30,
      "outputs": []
    },
    {
      "cell_type": "code",
      "metadata": {
        "id": "sl9zUHzg3jGI"
      },
      "source": [
        "def translate(sentence):\n",
        "  result, sentence, attention_plot = evaluate(sentence)\n",
        "\n",
        "  print('Input: %s' % (sentence))\n",
        "  print('Predicted translation: {}'.format(result))\n",
        "\n",
        "  attention_plot = attention_plot[:len(result.split(' ')), :len(sentence.split(' '))]\n",
        "  plot_attention(attention_plot, sentence.split(' '), result.split(' '))"
      ],
      "execution_count": 31,
      "outputs": []
    },
    {
      "cell_type": "markdown",
      "metadata": {
        "id": "n250XbnjOaqP"
      },
      "source": [
        "## Restore the latest checkpoint and test"
      ]
    },
    {
      "cell_type": "code",
      "metadata": {
        "id": "UJpT9D5_OgP6",
        "colab": {
          "base_uri": "https://localhost:8080/"
        },
        "outputId": "871b39fb-177b-4105-f109-5ec670da66b2"
      },
      "source": [
        "# restoring the latest checkpoint in checkpoint_dir\n",
        "checkpoint.restore(tf.train.latest_checkpoint(checkpoint_dir))"
      ],
      "execution_count": 32,
      "outputs": [
        {
          "output_type": "execute_result",
          "data": {
            "text/plain": [
              "<tensorflow.python.training.tracking.util.CheckpointLoadStatus at 0x7f599e943e50>"
            ]
          },
          "metadata": {},
          "execution_count": 32
        }
      ]
    },
    {
      "cell_type": "code",
      "metadata": {
        "id": "A3LLCx3ZE0Ls",
        "colab": {
          "base_uri": "https://localhost:8080/",
          "height": 676
        },
        "outputId": "c4360286-11d6-4f17-b1c0-9d024e236e84"
      },
      "source": [
        "translate(u'Вы все еще дома?')"
      ],
      "execution_count": 33,
      "outputs": [
        {
          "output_type": "stream",
          "name": "stdout",
          "text": [
            "Input: <start> вы все еще дома ? <end>\n",
            "Predicted translation: are you still at home ? <end> \n"
          ]
        },
        {
          "output_type": "display_data",
          "data": {
            "text/plain": [
              "<Figure size 720x720 with 1 Axes>"
            ],
            "image/png": "[encoded data removed]"
          },
          "metadata": {
            "needs_background": "light"
          }
        }
      ]
    },
    {
      "cell_type": "code",
      "metadata": {
        "id": "f09_hUFx9EJh",
        "colab": {
          "base_uri": "https://localhost:8080/",
          "height": 579
        },
        "outputId": "34fbdb2e-a1f9-4655-9d9c-1ebe467b73a8"
      },
      "source": [
        "translate(u'Я не люблю, когда идет снег.')"
      ],
      "execution_count": 34,
      "outputs": [
        {
          "output_type": "stream",
          "name": "stdout",
          "text": [
            "Input: <start> я не люблю , когда идет снег . <end>\n",
            "Predicted translation: i don't like when it . <end> \n"
          ]
        },
        {
          "output_type": "display_data",
          "data": {
            "text/plain": [
              "<Figure size 720x720 with 1 Axes>"
            ],
            "image/png": "[encoded data removed]"
          },
          "metadata": {
            "needs_background": "light"
          }
        }
      ]
    },
    {
      "cell_type": "code",
      "metadata": {
        "id": "e7c5p8rmkHQG",
        "colab": {
          "base_uri": "https://localhost:8080/",
          "height": 579
        },
        "outputId": "093850f5-3012-46a9-8146-a8d5d26b335d"
      },
      "source": [
        "translate(u'На дворе трава, на траве дрова.')"
      ],
      "execution_count": 35,
      "outputs": [
        {
          "output_type": "stream",
          "name": "stdout",
          "text": [
            "Input: <start> на дворе трава , на траве дрова . <end>\n",
            "Predicted translation: the ship ran at writing . <end> \n"
          ]
        },
        {
          "output_type": "display_data",
          "data": {
            "text/plain": [
              "<Figure size 720x720 with 1 Axes>"
            ],
            "image/png": "[encoded data removed]"
          },
          "metadata": {
            "needs_background": "light"
          }
        }
      ]
    },
    {
      "cell_type": "code",
      "metadata": {
        "id": "jdXES85KkTVS",
        "colab": {
          "base_uri": "https://localhost:8080/",
          "height": 726
        },
        "outputId": "dffe4e26-b675-4c3e-fd37-f50cab3e1429"
      },
      "source": [
        "translate(u'После понедельника будет вторник.')"
      ],
      "execution_count": 36,
      "outputs": [
        {
          "output_type": "stream",
          "name": "stdout",
          "text": [
            "Input: <start> после понедельника будет вторник . <end>\n",
            "Predicted translation: it'll be next by tomorrow . <end> \n"
          ]
        },
        {
          "output_type": "display_data",
          "data": {
            "text/plain": [
              "<Figure size 720x720 with 1 Axes>"
            ],
            "image/png": "[encoded data removed]"
          },
          "metadata": {
            "needs_background": "light"
          }
        }
      ]
    },
    {
      "cell_type": "code",
      "source": [
        "translate(u'Пришёл, увидел, победил.')"
      ],
      "metadata": {
        "colab": {
          "base_uri": "https://localhost:8080/",
          "height": 635
        },
        "id": "YppqjZ7eQgza",
        "outputId": "1a97eb9e-6753-44b1-a5e6-15fe61bafc5a"
      },
      "execution_count": 37,
      "outputs": [
        {
          "output_type": "stream",
          "name": "stdout",
          "text": [
            "Input: <start> приш л , увидел , победил . <end>\n",
            "Predicted translation: ok , see you did . <end> \n"
          ]
        },
        {
          "output_type": "display_data",
          "data": {
            "text/plain": [
              "<Figure size 720x720 with 1 Axes>"
            ],
            "image/png": "[encoded data removed]"
          },
          "metadata": {
            "needs_background": "light"
          }
        }
      ]
    },
    {
      "cell_type": "code",
      "source": [
        "translate(u'Кошка, которая гуляет сама по себе.')"
      ],
      "metadata": {
        "colab": {
          "base_uri": "https://localhost:8080/",
          "height": 582
        },
        "id": "1KD2j1e3Q1iL",
        "outputId": "9b9eadd2-99ec-4420-fe02-8cc0640d1873"
      },
      "execution_count": 38,
      "outputs": [
        {
          "output_type": "stream",
          "name": "stdout",
          "text": [
            "Input: <start> кошка , которая гуляет сама по себе . <end>\n",
            "Predicted translation: look , i get safe . <end> \n"
          ]
        },
        {
          "output_type": "display_data",
          "data": {
            "text/plain": [
              "<Figure size 720x720 with 1 Axes>"
            ],
            "image/png": "[encoded data removed]"
          },
          "metadata": {
            "needs_background": "light"
          }
        }
      ]
    },
    {
      "cell_type": "code",
      "source": [
        "translate(u'Это не интересно.')"
      ],
      "metadata": {
        "colab": {
          "base_uri": "https://localhost:8080/",
          "height": 698
        },
        "id": "EXcPUF2cQ9AV",
        "outputId": "61eff044-a71c-4033-c5b0-92a9b234daf5"
      },
      "execution_count": 39,
      "outputs": [
        {
          "output_type": "stream",
          "name": "stdout",
          "text": [
            "Input: <start> это не интересно . <end>\n",
            "Predicted translation: it's not interesting . <end> \n"
          ]
        },
        {
          "output_type": "display_data",
          "data": {
            "text/plain": [
              "<Figure size 720x720 with 1 Axes>"
            ],
            "image/png": "[encoded data removed]"
          },
          "metadata": {
            "needs_background": "light"
          }
        }
      ]
    },
    {
      "cell_type": "code",
      "source": [
        "translate(u'Лучше меньше, да лучше.')"
      ],
      "metadata": {
        "colab": {
          "base_uri": "https://localhost:8080/",
          "height": 623
        },
        "id": "FN32NnpHRAIn",
        "outputId": "b9cfb723-6039-40a0-8faa-2ee0e55cddf8"
      },
      "execution_count": 40,
      "outputs": [
        {
          "output_type": "stream",
          "name": "stdout",
          "text": [
            "Input: <start> лучше меньше , да лучше . <end>\n",
            "Predicted translation: you'd better take better . <end> \n"
          ]
        },
        {
          "output_type": "display_data",
          "data": {
            "text/plain": [
              "<Figure size 720x720 with 1 Axes>"
            ],
            "image/png": "[encoded data removed]"
          },
          "metadata": {
            "needs_background": "light"
          }
        }
      ]
    },
    {
      "cell_type": "code",
      "source": [
        "translate(u'Перевод денег другому человеку.')"
      ],
      "metadata": {
        "colab": {
          "base_uri": "https://localhost:8080/",
          "height": 623
        },
        "id": "z6vo9ue5RAQJ",
        "outputId": "0f931e89-780b-44f9-d4de-7effcfc3c07a"
      },
      "execution_count": 42,
      "outputs": [
        {
          "output_type": "stream",
          "name": "stdout",
          "text": [
            "Input: <start> перевод денег другому человеку . <end>\n",
            "Predicted translation: love more love . <end> \n"
          ]
        },
        {
          "output_type": "display_data",
          "data": {
            "text/plain": [
              "<Figure size 720x720 with 1 Axes>"
            ],
            "image/png": "[encoded data removed]"
          },
          "metadata": {
            "needs_background": "light"
          }
        }
      ]
    },
    {
      "cell_type": "code",
      "source": [
        "translate(u'На горе стоит старый замок.')"
      ],
      "metadata": {
        "colab": {
          "base_uri": "https://localhost:8080/",
          "height": 621
        },
        "id": "JPXvSYJgRAV7",
        "outputId": "14413663-34d1-4e21-eb68-9d065f2a86e2"
      },
      "execution_count": 44,
      "outputs": [
        {
          "output_type": "stream",
          "name": "stdout",
          "text": [
            "Input: <start> на горе стоит старый замок . <end>\n",
            "Predicted translation: cotton drove very new . <end> \n"
          ]
        },
        {
          "output_type": "display_data",
          "data": {
            "text/plain": [
              "<Figure size 720x720 with 1 Axes>"
            ],
            "image/png": "[encoded data removed]"
          },
          "metadata": {
            "needs_background": "light"
          }
        }
      ]
    },
    {
      "cell_type": "code",
      "source": [
        "translate(u'Человек человеку волк.')"
      ],
      "metadata": {
        "colab": {
          "base_uri": "https://localhost:8080/",
          "height": 688
        },
        "id": "YRqfS4StRAb5",
        "outputId": "13819ace-09c8-4d67-9cfb-1ed45391113c"
      },
      "execution_count": 45,
      "outputs": [
        {
          "output_type": "stream",
          "name": "stdout",
          "text": [
            "Input: <start> человек человеку волк . <end>\n",
            "Predicted translation: the man must a wolf . <end> \n"
          ]
        },
        {
          "output_type": "display_data",
          "data": {
            "text/plain": [
              "<Figure size 720x720 with 1 Axes>"
            ],
            "image/png": "[encoded data removed]"
          },
          "metadata": {
            "needs_background": "light"
          }
        }
      ]
    },
    {
      "cell_type": "code",
      "source": [
        "translate(u'Пойдёшь направо - коня потеряешь.')"
      ],
      "metadata": {
        "colab": {
          "base_uri": "https://localhost:8080/",
          "height": 702
        },
        "id": "DQrj8YlIRAt9",
        "outputId": "5f295879-01b7-4339-9f67-1af864e1166d"
      },
      "execution_count": 51,
      "outputs": [
        {
          "output_type": "stream",
          "name": "stdout",
          "text": [
            "Input: <start> пойд шь направо коня потеряешь . <end>\n",
            "Predicted translation: let's go to your passport . <end> \n"
          ]
        },
        {
          "output_type": "display_data",
          "data": {
            "text/plain": [
              "<Figure size 720x720 with 1 Axes>"
            ],
            "image/png": "[encoded data removed]"
          },
          "metadata": {
            "needs_background": "light"
          }
        }
      ]
    },
    {
      "cell_type": "code",
      "source": [
        "translate(u'Вчера вечером был красивый закат.')"
      ],
      "metadata": {
        "colab": {
          "base_uri": "https://localhost:8080/",
          "height": 691
        },
        "id": "nqFh5Z8yRA0K",
        "outputId": "e2699015-79b3-481b-eb06-e045ea55d02c"
      },
      "execution_count": 55,
      "outputs": [
        {
          "output_type": "stream",
          "name": "stdout",
          "text": [
            "Input: <start> вчера вечером был красивый закат . <end>\n",
            "Predicted translation: it was a nice night . <end> \n"
          ]
        },
        {
          "output_type": "display_data",
          "data": {
            "text/plain": [
              "<Figure size 720x720 with 1 Axes>"
            ],
            "image/png": "[encoded data removed]"
          },
          "metadata": {
            "needs_background": "light"
          }
        }
      ]
    }
  ]
}